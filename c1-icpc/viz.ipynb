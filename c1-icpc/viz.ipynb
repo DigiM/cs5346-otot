{
 "cells": [
  {
   "cell_type": "markdown",
   "metadata": {},
   "source": [
    "# OTOT-C: ICPC WF Statistics\n",
    "\n",
    "* Datasets:\n",
    "  * `icpc-full.csv`: https://www.kaggle.com/datasets/justinianus/icpc-world-finals-ranking-since-1999\n",
    "  * `region-mapping.csv`: custom data to map countries to regions"
   ]
  },
  {
   "cell_type": "code",
   "execution_count": 37,
   "metadata": {},
   "outputs": [
    {
     "data": {
      "text/plain": [
       "<contextlib.ExitStack at 0x785bf7b7dd90>"
      ]
     },
     "execution_count": 37,
     "metadata": {},
     "output_type": "execute_result"
    }
   ],
   "source": [
    "import numpy as np\n",
    "import pandas as pd\n",
    "import matplotlib.pyplot as plt\n",
    "import matplotlib.ticker as mtick\n",
    "\n",
    "plt.ioff()"
   ]
  },
  {
   "cell_type": "code",
   "execution_count": 38,
   "metadata": {},
   "outputs": [
    {
     "data": {
      "text/html": [
       "<div>\n",
       "<style scoped>\n",
       "    .dataframe tbody tr th:only-of-type {\n",
       "        vertical-align: middle;\n",
       "    }\n",
       "\n",
       "    .dataframe tbody tr th {\n",
       "        vertical-align: top;\n",
       "    }\n",
       "\n",
       "    .dataframe thead th {\n",
       "        text-align: right;\n",
       "    }\n",
       "</style>\n",
       "<table border=\"1\" class=\"dataframe\">\n",
       "  <thead>\n",
       "    <tr style=\"text-align: right;\">\n",
       "      <th></th>\n",
       "      <th>index</th>\n",
       "      <th>Year</th>\n",
       "      <th>Date</th>\n",
       "      <th>Host</th>\n",
       "      <th>City</th>\n",
       "      <th>Venue</th>\n",
       "      <th>Rank</th>\n",
       "      <th>University</th>\n",
       "      <th>Country</th>\n",
       "      <th>Team</th>\n",
       "      <th>...</th>\n",
       "      <th>Gold</th>\n",
       "      <th>Silver</th>\n",
       "      <th>Bronze</th>\n",
       "      <th>Honorable</th>\n",
       "      <th>Score</th>\n",
       "      <th>Total</th>\n",
       "      <th>Score Percentage</th>\n",
       "      <th>Penalty</th>\n",
       "      <th>Prize</th>\n",
       "      <th>Region</th>\n",
       "    </tr>\n",
       "  </thead>\n",
       "  <tbody>\n",
       "  </tbody>\n",
       "</table>\n",
       "<p>0 rows × 23 columns</p>\n",
       "</div>"
      ],
      "text/plain": [
       "Empty DataFrame\n",
       "Columns: [index, Year, Date, Host, City, Venue, Rank, University, Country, Team, Contestant 1, Contestant 2, Contestant 3, Gold, Silver, Bronze, Honorable, Score, Total, Score Percentage, Penalty, Prize, Region]\n",
       "Index: []\n",
       "\n",
       "[0 rows x 23 columns]"
      ]
     },
     "execution_count": 38,
     "metadata": {},
     "output_type": "execute_result"
    }
   ],
   "source": [
    "df = pd.read_csv('icpc-full.csv').reset_index()\n",
    "region_mapping = pd.read_csv('region-map.csv')\n",
    "df = pd.merge(df, region_mapping, on='Country')\n",
    "df[df['Region'].isna()]"
   ]
  },
  {
   "cell_type": "code",
   "execution_count": 39,
   "metadata": {},
   "outputs": [],
   "source": [
    "# Number of teams per country that received a medal (Ranks 1-12).\n",
    "\n",
    "fig, ax = plt.subplots(figsize=(10,10))\n",
    "fig.suptitle('Number of Medalists per Country')\n",
    "\n",
    "medal_team_per_country = df[df['Rank'] <= 12]['Country'].value_counts()\n",
    "medal_team_per_country = pd.concat([\n",
    "    medal_team_per_country.head(11),\n",
    "    pd.Series({'Others': medal_team_per_country.tail(medal_team_per_country.size - 11).sum()})\n",
    "])\n",
    "\n",
    "patches, texts, autotexts = ax.pie(\n",
    "    medal_team_per_country,\n",
    "    labels=medal_team_per_country.index,\n",
    "    rotatelabels=True,\n",
    "    autopct='%1.2f%%',\n",
    "    colors=plt.cm.Pastel2.colors,\n",
    "    explode=([0.05] * (medal_team_per_country.size - 1)) + [0.1]\n",
    ")\n",
    "\n",
    "patches[-1].set_color('whitesmoke')\n",
    "patches[-1].set_edgecolor('grey')\n",
    "patches[-1].set_linewidth(0.1)\n",
    "\n",
    "text_sizes = medal_team_per_country.values / medal_team_per_country.values[0] * 8 + 8\n",
    "for i in range(len(texts)):\n",
    "    t = texts[i]\n",
    "    t.set_color('grey')\n",
    "    t.set_size(text_sizes[i])\n",
    "for t in autotexts:\n",
    "    t.set_color('grey')\n",
    "    t.set_size('7')\n",
    "\n",
    "# plt.show()\n",
    "fig.savefig('medal.png')\n",
    "plt.close()\n"
   ]
  },
  {
   "cell_type": "markdown",
   "metadata": {},
   "source": [
    "## Number of Medalists per Country\n",
    "\n",
    "We want to see which countries has the most successful teams that receives a medal. In this case, we can just check for rank <= 12.\n",
    "\n",
    "![image](medal.png)\n",
    "\n",
    "Here we observe that more than a quarter of medalists are teams from Russia. The next two top countries are from China and United States.\n",
    "\n"
   ]
  },
  {
   "cell_type": "code",
   "execution_count": 40,
   "metadata": {},
   "outputs": [],
   "source": [
    "# Number of problem solved\n",
    "\n",
    "# Average number of problems solved\n",
    "aver = df.loc[:, ['Year', 'Score']]\n",
    "aver = aver.rename(columns={'Score': 'Average'})\n",
    "aver = aver.groupby('Year').mean()\n",
    "\n",
    "# Average number of problems solved by top 50\n",
    "aver_top50 = df[df['Rank'] <= 50].loc[:, ['Year', 'Score']]\n",
    "aver_top50 = aver_top50.rename(columns={'Score': 'Average (Top 50)'})\n",
    "aver_top50 = aver_top50.groupby('Year').mean()\n",
    "\n",
    "# Average number of problems solved by top 12\n",
    "aver_top12 = df[df['Rank'] <= 12].loc[:, ['Year', 'Score']]\n",
    "aver_top12 = aver_top12.rename(columns={'Score': 'Average (Top 12)'})\n",
    "aver_top12 = aver_top12.groupby('Year').mean()\n",
    "\n",
    "# Max number of problems to be solved\n",
    "max_problems = df.loc[:, ['Year', 'Total']]\n",
    "max_problems = max_problems.rename(columns={'Total': 'Max Problems'})\n",
    "max_problems = max_problems.groupby('Year').first()\n",
    "\n",
    "aver_comb = aver.merge(aver_top50, left_on='Year', right_on='Year')\n",
    "aver_comb = aver_comb.merge(aver_top12, left_on='Year', right_on='Year')\n",
    "aver_comb = aver_comb.merge(max_problems, left_on='Year', right_on='Year')"
   ]
  },
  {
   "cell_type": "code",
   "execution_count": 41,
   "metadata": {},
   "outputs": [],
   "source": [
    "# Number of problems solved (Percentage)\n",
    "\n",
    "# Average number of problems solved\n",
    "aver_pcnt = df.loc[:, ['Year', 'Score Percentage']]\n",
    "aver_pcnt = aver_pcnt.rename(columns={'Score Percentage': 'Average'})\n",
    "aver_pcnt = aver_pcnt.groupby('Year').mean()\n",
    "\n",
    "# Average number of problems solved by top 50\n",
    "aver_pcnt_top50 = df[df['Rank'] <= 50].loc[:, ['Year', 'Score Percentage']]\n",
    "aver_pcnt_top50 = aver_pcnt_top50.rename(columns={'Score Percentage': 'Average (Top 50)'})\n",
    "aver_pcnt_top50 = aver_pcnt_top50.groupby('Year').mean()\n",
    "\n",
    "# Average number of problems solved by top 12\n",
    "aver_pcnt_top12 = df[df['Rank'] <= 12].loc[:, ['Year', 'Score Percentage']]\n",
    "aver_pcnt_top12 = aver_pcnt_top12.rename(columns={'Score Percentage': 'Average (Top 12)'})\n",
    "aver_pcnt_top12 = aver_pcnt_top12.groupby('Year').mean()\n",
    "\n",
    "aver_pcnt_comb = aver_pcnt.merge(aver_pcnt_top50, left_on='Year', right_on='Year')\n",
    "aver_pcnt_comb = aver_pcnt_comb.merge(aver_pcnt_top12, left_on='Year', right_on='Year')"
   ]
  },
  {
   "cell_type": "code",
   "execution_count": 42,
   "metadata": {},
   "outputs": [],
   "source": [
    "fig, (ax0, ax1) = plt.subplots(2, 1, figsize=(20,10), sharex=True)\n",
    "fig.suptitle('Average Problems Solved')\n",
    "\n",
    "aver_comb.plot(kind='bar', ax=ax0, color=plt.cm.Pastel2.colors)\n",
    "aver_pcnt_comb.plot(kind='bar', ax=ax1, color=plt.cm.Pastel2.colors, rot=30)\n",
    "\n",
    "ax1.set_ylim([0.0, 1.0])\n",
    "ax1.grid(axis='y')\n",
    "ax1.set_axisbelow(True)\n",
    "ax1.yaxis.set_major_formatter(mtick.PercentFormatter(1.0))\n",
    "\n",
    "# plt.show()\n",
    "fig.savefig('problem.png')\n",
    "plt.close()"
   ]
  },
  {
   "cell_type": "markdown",
   "metadata": {},
   "source": [
    "## Average Problems Solved\n",
    "\n",
    "Here we want to see the different performances between those in the top 12, top 50 and everyone.\n",
    "\n",
    "![image](problem.png)\n",
    "\n",
    "Here we can see that the top 50 solves about 50% of the problems, with much variance depending on the year.\n",
    "\n",
    "Years 2006 and 2014 are especially brutal, where even the average number of problems solved by the top 12 is under or at least close to 50%."
   ]
  },
  {
   "cell_type": "code",
   "execution_count": 43,
   "metadata": {},
   "outputs": [
    {
     "name": "stderr",
     "output_type": "stream",
     "text": [
      "/tmp/ipykernel_9986/1566467493.py:18: UserWarning: set_ticklabels() should only be used with a fixed number of ticks, i.e. after set_ticks() or using a FixedLocator.\n",
      "  ax0.set_xticklabels(ax0.get_xticklabels(), rotation=30, ha='right')\n"
     ]
    }
   ],
   "source": [
    "fig, (ax0, ax1) = plt.subplots(2, 1, figsize=(10,20))\n",
    "fig.suptitle(\"Region Performances\")\n",
    "ax0.title.set_text(\"Average Problems Solved per Region\")\n",
    "ax1.title.set_text(\"Highest Ranks in the Region\")\n",
    "\n",
    "aver_region_pcnt = df.loc[:, ['Region', 'Score Percentage']]\n",
    "aver_region_pcnt = aver_region_pcnt.rename(columns={'Score Percentage': 'Average'})\n",
    "aver_region_pcnt = aver_region_pcnt.groupby('Region').mean().sort_values(by='Average', ascending=False)\n",
    "\n",
    "ax0.bar(\n",
    "    aver_region_pcnt.index,\n",
    "    aver_region_pcnt['Average'],\n",
    "    color=plt.cm.Pastel2.colors\n",
    ")\n",
    "\n",
    "# aver_region_pcnt.T.plot(kind='bar', ax0=ax0, color=plt.cm.Pastel2.colors)\n",
    "\n",
    "ax0.set_xticklabels(ax0.get_xticklabels(), rotation=30, ha='right')\n",
    "\n",
    "ax0.set_ylim([0.0, 1.0])\n",
    "ax0.grid(axis='y')\n",
    "ax0.set_axisbelow(True)\n",
    "ax0.yaxis.set_major_formatter(mtick.PercentFormatter(1.0))\n",
    "\n",
    "rank_percentile = df.groupby(['Year'])['Rank'].transform(lambda x: x / x.count()).rename(\"Rank Percentile\").reset_index()\n",
    "rank_percentile = pd.merge(df, rank_percentile)\n",
    "\n",
    "g = rank_percentile.groupby(['Region'])\n",
    "rank_percentile = pd.DataFrame({col: val['Rank Percentile'] for col, val in g})\n",
    "\n",
    "rank_percentile = rank_percentile[aver_region_pcnt.index]\n",
    "rank_percentile.plot(kind='box',ax=ax1)\n",
    "\n",
    "labels = [label.get_text().replace('(','').replace(',)','') for label in ax1.get_xticklabels()]\n",
    "ax1.set_xticklabels(labels, rotation=30, ha='right')\n",
    "\n",
    "ax1.invert_yaxis()\n",
    "ax1.yaxis.set_major_formatter(mtick.PercentFormatter(1.0))\n",
    "\n",
    "# plt.show()\n",
    "fig.savefig('region.png')\n",
    "plt.close()"
   ]
  },
  {
   "cell_type": "markdown",
   "metadata": {},
   "source": [
    "## Region Performances\n",
    "\n",
    "Here we want to see how each region compares with each other.\n",
    "\n",
    "![image](region.png)\n",
    "\n",
    "One interesting thing to note is that North America, consisting of USA and Canada, despite having a lot of medalists has a lower performance in general.\n",
    "\n",
    "Despite not having any dominating countries, Europe and Asia Pacific have relatively high performances. We can infer that these regions generally have a lot of countries that are high-performing over the years."
   ]
  }
 ],
 "metadata": {
  "kernelspec": {
   "display_name": "Python 3",
   "language": "python",
   "name": "python3"
  },
  "language_info": {
   "codemirror_mode": {
    "name": "ipython",
    "version": 3
   },
   "file_extension": ".py",
   "mimetype": "text/x-python",
   "name": "python",
   "nbconvert_exporter": "python",
   "pygments_lexer": "ipython3",
   "version": "3.11.8"
  }
 },
 "nbformat": 4,
 "nbformat_minor": 2
}
